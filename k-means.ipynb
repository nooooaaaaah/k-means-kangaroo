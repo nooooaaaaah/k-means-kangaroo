{
 "cells": [
  {
   "cell_type": "markdown",
   "metadata": {},
   "source": [
    "# K-Means Clustering in Python\n",
    "\n",
    "This is a simple example of how to use the K-Means clustering algorithm in Python. It utilizes the `sklearn` library to perform the clustering. The dataset used is fake customer purchase information is generated using the faker library\n",
    "\n",
    "## Import Libraries"
   ]
  },
  {
   "cell_type": "code",
   "execution_count": null,
   "metadata": {},
   "outputs": [],
   "source": [
    "%pip install Faker\n",
    "%pip install pandas\n",
    "%pip install numpy\n",
    "%pip install matplotlib\n",
    "%pip install scikit-learn"
   ]
  },
  {
   "cell_type": "markdown",
   "metadata": {},
   "source": [
    "## Generate Fake Data"
   ]
  },
  {
   "cell_type": "code",
   "execution_count": 4,
   "metadata": {},
   "outputs": [
    {
     "name": "stdout",
     "output_type": "stream",
     "text": [
      "Fake purchase history data generated\n"
     ]
    }
   ],
   "source": [
    "import pandas as pd\n",
    "import numpy as np\n",
    "from faker import Faker\n",
    "from datetime import datetime, timedelta\n",
    "\n",
    "fake = Faker()\n",
    "\n",
    "# Number of data points\n",
    "n = 1000\n",
    "\n",
    "categories = ['Electronics', 'Fashion', 'Home & Living', 'Beauty & Health', 'Books', 'Sports & Outdoors']\n",
    "\n",
    "products = {\n",
    "    'Electronics': ['Smartphone', 'Laptop', 'Headphones', 'Camera', 'Smartwatch'],\n",
    "    'Fashion': ['Shirt', 'Dress', 'Shoes', 'Handbag', 'Sunglasses'],\n",
    "    'Home & Living': ['Sofa', 'Dining Table', 'Lamp', 'Cookware', 'Bed'],\n",
    "    'Beauty & Health': ['Lipstick', 'Perfume', 'Shampoo', 'Body Lotion', 'Nail Polish'],\n",
    "    'Books': ['Mystery Novel', 'Science Fiction', 'Romance Novel', 'History', 'Biography'],\n",
    "    'Sports & Outdoors': ['Basketball', 'Tennis Racket', 'Yoga Mat', 'Camping Tent', 'Cycling Helmet']\n",
    "}\n",
    "\n",
    "data = {\n",
    "    'Product Name': [],\n",
    "    'Category': [],\n",
    "    'Purchase Date': [],\n",
    "    'Quantity': [],\n",
    "    'Price': [],\n",
    "    'CustomerID': [],\n",
    "    'zipcode': [],\n",
    "    'discountApplied': [],\n",
    "}\n",
    "\n",
    "for _ in range(n):\n",
    "\n",
    "    customer_id = fake.random_int(min=1000, max=9999)\n",
    "    zipcode = fake.zipcode()\n",
    "    num_purchases = np.random.randint(1, 6)\n",
    "    for _ in range(num_purchases):\n",
    "        quantity = np.random.randint(1, 6)\n",
    "        price = np.round(np.random.uniform(10, 1000), 2)\n",
    "        category = np.random.choice(categories)\n",
    "        product_name = np.random.choice(products[category])\n",
    "        purchase_date = fake.date_between_dates(date_start=datetime.now() - timedelta(days=365), date_end=datetime.now())\n",
    "        discount_applied = np.random.choice([True, False])\n",
    "        \n",
    "        data['Product Name'].append(product_name)\n",
    "        data['Category'].append(category)\n",
    "        data['Purchase Date'].append(purchase_date)\n",
    "        data['Quantity'].append(quantity)\n",
    "        data['Price'].append(price)\n",
    "        data['CustomerID'].append(customer_id)\n",
    "        data['zipcode'].append(zipcode)\n",
    "        data['discountApplied'].append(discount_applied)\n",
    "\n",
    "\n",
    "length = len(data['Product Name'])\n",
    "for key in data:\n",
    "    if len(data[key]) != length:\n",
    "        data[key] += [None] * (length - len(data[key]))\n",
    "\n",
    "df = pd.DataFrame(data)\n",
    "\n",
    "# Save the data to a CSV file\n",
    "# df.to_csv('fake_purchase_history.csv', index=False)\n",
    "\n",
    "print(\"Fake purchase history data generated\")"
   ]
  },
  {
   "cell_type": "markdown",
   "metadata": {},
   "source": [
    "## Perform Clustering"
   ]
  },
  {
   "cell_type": "code",
   "execution_count": 5,
   "metadata": {},
   "outputs": [
    {
     "name": "stderr",
     "output_type": "stream",
     "text": [
      "/Users/noahspielman/Projects/Learning/K-Means/.venv/lib/python3.11/site-packages/sklearn/cluster/_kmeans.py:1416: FutureWarning: The default value of `n_init` will change from 10 to 'auto' in 1.4. Set the value of `n_init` explicitly to suppress the warning\n",
      "  super()._check_params_vs_input(X, default_n_init=10)\n"
     ]
    },
    {
     "name": "stdout",
     "output_type": "stream",
     "text": [
      "K-means clustering complete. Results included in df under column 'Cluster'\n"
     ]
    }
   ],
   "source": [
    "from sklearn.cluster import KMeans\n",
    "from sklearn.preprocessing import StandardScaler\n",
    "import pandas as pd\n",
    "\n",
    "# df = pd.read_csv('fake_purchase_history.csv')\n",
    "\n",
    "scaler = StandardScaler()\n",
    "X = scaler.fit_transform(df[['Quantity', 'Price']])\n",
    "\n",
    "kmeans = KMeans(n_clusters=3, random_state=42)\n",
    "\n",
    "kmeans.fit(X)\n",
    "\n",
    "labels = kmeans.labels_\n",
    "\n",
    "df['Cluster'] = labels\n",
    "\n",
    "# Save the post clustering data to a CSV file\n",
    "# df.to_csv('fake_purchase_history_clusters.csv', index=False)\n",
    "\n",
    "print(\"K-means clustering complete. Results included in df under column 'Cluster'\")"
   ]
  },
  {
   "cell_type": "markdown",
   "metadata": {},
   "source": [
    "## Visualize Clusters"
   ]
  },
  {
   "cell_type": "code",
   "execution_count": null,
   "metadata": {},
   "outputs": [],
   "source": [
    "import matplotlib.pyplot as plt\n",
    "import pandas as pd\n",
    "\n",
    "plt.scatter(df['Quantity'], df['Price'], c=df['Cluster'])\n",
    "\n",
    "plt.xlabel('Quantity')\n",
    "plt.ylabel('Price')\n",
    "plt.title('K-Means Clustering Results')\n",
    "\n",
    "plt.show()"
   ]
  },
  {
   "cell_type": "markdown",
   "metadata": {},
   "source": [
    "## Post Clustering Analysis"
   ]
  },
  {
   "cell_type": "markdown",
   "metadata": {},
   "source": [
    "### Cluster Means"
   ]
  },
  {
   "cell_type": "code",
   "execution_count": 7,
   "metadata": {},
   "outputs": [
    {
     "name": "stdout",
     "output_type": "stream",
     "text": [
      "Cluster means:\n",
      "         Quantity       Price\n",
      "Cluster                      \n",
      "0        3.695148  777.401582\n",
      "1        1.462825  459.729052\n",
      "2        4.069038  268.905941\n",
      "\n",
      "Overall means:\n",
      "Quantity      3.009060\n",
      "Price       499.570215\n",
      "dtype: float64\n"
     ]
    }
   ],
   "source": [
    "import pandas as pd\n",
    "\n",
    "cluster_means = df.groupby('Cluster')[['Quantity', 'Price']].mean()\n",
    "\n",
    "overall_means = df[['Quantity', 'Price']].mean()\n",
    "\n",
    "# Print the mean values for each cluster and the overall dataset\n",
    "print(\"Cluster means:\")\n",
    "print(cluster_means)\n",
    "print(\"\\nOverall means:\")\n",
    "print(overall_means)"
   ]
  },
  {
   "cell_type": "markdown",
   "metadata": {},
   "source": [
    "### Cluster Sizes"
   ]
  },
  {
   "cell_type": "code",
   "execution_count": 8,
   "metadata": {},
   "outputs": [
    {
     "name": "stdout",
     "output_type": "stream",
     "text": [
      "Cluster sizes:\n",
      "Cluster\n",
      "0     948\n",
      "1    1076\n",
      "2     956\n",
      "dtype: int64\n",
      "\n",
      "Cluster percentages:\n",
      "Cluster\n",
      "0    0.318121\n",
      "1    0.361074\n",
      "2    0.320805\n",
      "dtype: float64\n"
     ]
    }
   ],
   "source": [
    "import pandas as pd\n",
    "\n",
    "# Size of each cluster\n",
    "cluster_sizes = df.groupby('Cluster').size()\n",
    "\n",
    "# Percentage of each cluster\n",
    "cluster_percentages = cluster_sizes / cluster_sizes.sum()\n",
    "\n",
    "print(\"Cluster sizes:\")\n",
    "print(cluster_sizes)\n",
    "print(\"\\nCluster percentages:\")\n",
    "print(cluster_percentages)"
   ]
  }
 ],
 "metadata": {
  "kernelspec": {
   "display_name": ".venv",
   "language": "python",
   "name": "python3"
  },
  "language_info": {
   "codemirror_mode": {
    "name": "ipython",
    "version": 3
   },
   "file_extension": ".py",
   "mimetype": "text/x-python",
   "name": "python",
   "nbconvert_exporter": "python",
   "pygments_lexer": "ipython3",
   "version": "3.11.6"
  }
 },
 "nbformat": 4,
 "nbformat_minor": 2
}
